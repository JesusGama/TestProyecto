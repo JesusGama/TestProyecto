{
  "nbformat": 4,
  "nbformat_minor": 0,
  "metadata": {
    "colab": {
      "provenance": [],
      "authorship_tag": "ABX9TyNPTU1F1wwK8VvrAkVz5qh1",
      "include_colab_link": true
    },
    "kernelspec": {
      "name": "python3",
      "display_name": "Python 3"
    },
    "language_info": {
      "name": "python"
    }
  },
  "cells": [
    {
      "cell_type": "markdown",
      "metadata": {
        "id": "view-in-github",
        "colab_type": "text"
      },
      "source": [
        "<a href=\"https://colab.research.google.com/github/JesusGama/TestProyecto/blob/main/Lab3_04_04.ipynb\" target=\"_parent\"><img src=\"https://colab.research.google.com/assets/colab-badge.svg\" alt=\"Open In Colab\"/></a>"
      ]
    },
    {
      "cell_type": "markdown",
      "source": [
        "Laboratorio3 Jesús Gamboa"
      ],
      "metadata": {
        "id": "1a7CERpwl4ZU"
      }
    },
    {
      "cell_type": "code",
      "execution_count": 40,
      "metadata": {
        "id": "_Qyr4Y88lUU0"
      },
      "outputs": [],
      "source": [
        "import threading\n",
        "import random\n",
        "import time\n",
        "\n",
        "tiempo_total = 0"
      ]
    },
    {
      "cell_type": "code",
      "source": [
        "def ordenar_subvector(subvector, hilo):\n",
        "  global tiempo_total\n",
        "  tiempo_inicio = time.time()\n",
        "  subvector.sort()\n",
        "  tiempo_fin = time.time()\n",
        "  tiempo_ejecucion = tiempo_fin - tiempo_inicio\n",
        "  tiempo_total += tiempo_ejecucion\n",
        "  print(f\"Hilo {hilo}: Subvector ordenado (Tiempo: {tiempo_ejecucion} segundos\")"
      ],
      "metadata": {
        "id": "4-mBdhkGlzc2"
      },
      "execution_count": 47,
      "outputs": []
    },
    {
      "cell_type": "code",
      "source": [
        "def dividir_vector(vector, num_hilos):\n",
        "  longitud_subvector = len(vector) // num_hilos\n",
        "  subvectores = [vector[i:i+longitud_subvector] for i in range(0, len(vector), longitud_subvector)]\n",
        "  return subvectores"
      ],
      "metadata": {
        "id": "IMWOUJ5rmzS6"
      },
      "execution_count": 42,
      "outputs": []
    },
    {
      "cell_type": "code",
      "source": [
        "def unir_vectores(subvectores):\n",
        "  vector_ordenado = [num for subvector in subvectores for num in subvector]\n",
        "  return vector_ordenado"
      ],
      "metadata": {
        "id": "zwPSViKInRZk"
      },
      "execution_count": 43,
      "outputs": []
    },
    {
      "cell_type": "code",
      "source": [
        "def ordenar_vector(vector, num_hilos):\n",
        "  subvectores = dividir_vector(vector, num_hilos)\n",
        "  threads = []\n",
        "\n",
        "  for i, subvector in enumerate(subvectores):\n",
        "    thread = threading.Thread(target = ordenar_subvector, args=(subvector, i))\n",
        "    thread.start()\n",
        "    threads.append(thread)\n",
        "  for thread in threads:\n",
        "    thread.join()\n",
        "  vector_ordenado = unir_vectores(subvectores)\n",
        "  vector_ordenado.sort()\n",
        "  print(f\"Vector ordenado final: {vector_ordenado}\")\n",
        "  print(f\"Tiempo final: {tiempo_total}\")"
      ],
      "metadata": {
        "id": "4HcZm1BqnkVy"
      },
      "execution_count": 44,
      "outputs": []
    },
    {
      "cell_type": "code",
      "source": [
        "vector_grande = [random.randint(1, 100) for _ in range(100)]"
      ],
      "metadata": {
        "id": "yF_6y9fBofJL"
      },
      "execution_count": 45,
      "outputs": []
    },
    {
      "cell_type": "code",
      "source": [
        "num_hilos = int(input(\"Ingrese la cantidad de hilos: \"))\n",
        "\n",
        "ordenar_vector(vector = vector_grande, num_hilos = num_hilos)"
      ],
      "metadata": {
        "colab": {
          "base_uri": "https://localhost:8080/"
        },
        "id": "3AvmJifWosLB",
        "outputId": "1e1b74cd-f31f-4565-c7af-fbd4a5634e25"
      },
      "execution_count": 82,
      "outputs": [
        {
          "output_type": "stream",
          "name": "stdout",
          "text": [
            "Ingrese la cantidad de hilos: 10\n",
            "Hilo 0: Subvector ordenado (Tiempo: 4.5299530029296875e-06 segundos\n",
            "Hilo 1: Subvector ordenado (Tiempo: 3.337860107421875e-06 segundos\n",
            "Hilo 2: Subvector ordenado (Tiempo: 3.0994415283203125e-06 segundos\n",
            "Hilo 3: Subvector ordenado (Tiempo: 3.0994415283203125e-06 segundos\n",
            "Hilo 4: Subvector ordenado (Tiempo: 3.0994415283203125e-06 segundos\n",
            "Hilo 5: Subvector ordenado (Tiempo: 2.6226043701171875e-06 segundosHilo 6: Subvector ordenado (Tiempo: 2.384185791015625e-06 segundos\n",
            "\n",
            "Hilo 7: Subvector ordenado (Tiempo: 2.384185791015625e-06 segundos\n",
            "Hilo 8: Subvector ordenado (Tiempo: 5.0067901611328125e-06 segundos\n",
            "Hilo 9: Subvector ordenado (Tiempo: 5.4836273193359375e-06 segundos\n",
            "Vector ordenado final: [2, 3, 4, 6, 6, 6, 9, 11, 13, 14, 15, 16, 17, 19, 21, 21, 22, 23, 24, 26, 27, 27, 29, 30, 31, 32, 32, 36, 36, 37, 38, 38, 38, 40, 41, 41, 45, 45, 46, 47, 47, 49, 51, 51, 52, 52, 52, 52, 57, 57, 59, 60, 62, 63, 65, 66, 67, 68, 70, 70, 71, 71, 72, 72, 73, 74, 74, 74, 74, 74, 77, 77, 78, 78, 79, 80, 80, 80, 82, 82, 83, 83, 83, 83, 83, 86, 86, 87, 89, 92, 94, 94, 95, 96, 96, 97, 98, 99, 99, 99]\n",
            "Tiempo final: 0.0006108283996582031\n"
          ]
        }
      ]
    },
    {
      "cell_type": "markdown",
      "source": [
        "Entre más hilos el tiempo aumenta\n",
        "\n",
        "¿Cual sería la cantidad optima?\n",
        "No puedo definir una cantidad de hilos optimo puesto que el valor más rápido fue al tener solo 1 hilo\n",
        "\n",
        "\n",
        "```\n",
        "Cantidad de Hilos,Tiempos\n",
        "0,Error\n",
        "1,\"0,0003981590271\"\n",
        "2,\"0,0004117488861\"\n",
        "3,\"0,0004262924194\"\n",
        "4,\"0,0004458427429\"\n",
        "5,\"0,0004692077637\"\n",
        "6,\"0,0004940032959\"\n",
        "7,\"0,0005176067352\"\n",
        "8,\"0,0005424022675\"\n",
        "9,\"0,0005757808685\"\n",
        "10,\"0,0006108283997\"\n",
        "```\n"
      ],
      "metadata": {
        "id": "KgbLq6-23F6e"
      }
    }
  ]
}