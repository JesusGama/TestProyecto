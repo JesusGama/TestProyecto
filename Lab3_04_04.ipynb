{
  "nbformat": 4,
  "nbformat_minor": 0,
  "metadata": {
    "colab": {
      "provenance": [],
      "authorship_tag": "ABX9TyNDpQvo/mhLU/SeF1QBdkWl",
      "include_colab_link": true
    },
    "kernelspec": {
      "name": "python3",
      "display_name": "Python 3"
    },
    "language_info": {
      "name": "python"
    }
  },
  "cells": [
    {
      "cell_type": "markdown",
      "metadata": {
        "id": "view-in-github",
        "colab_type": "text"
      },
      "source": [
        "<a href=\"https://colab.research.google.com/github/JesusGama/TestProyecto/blob/main/Lab3_04_04.ipynb\" target=\"_parent\"><img src=\"https://colab.research.google.com/assets/colab-badge.svg\" alt=\"Open In Colab\"/></a>"
      ]
    },
    {
      "cell_type": "markdown",
      "source": [
        "Laboratorio3 Jesús Gamboa"
      ],
      "metadata": {
        "id": "1a7CERpwl4ZU"
      }
    },
    {
      "cell_type": "code",
      "execution_count": 33,
      "metadata": {
        "id": "_Qyr4Y88lUU0"
      },
      "outputs": [],
      "source": [
        "import threading\n",
        "import random\n",
        "import time\n",
        "\n",
        "tiempo_total = 0"
      ]
    },
    {
      "cell_type": "code",
      "source": [
        "def ordenar_subvector(subvector, hilo):\n",
        "  global tiempo_total\n",
        "  tiempo_inicio = time.time()\n",
        "  subvector.sort()\n",
        "  tiempo_fin = time.time()\n",
        "  tiempo_ejecucion = tiempo_fin - tiempo_inicio\n",
        "  tiempo_total += tiempo_ejecucion\n",
        "  print(f\"Hilo {hilo}: Subvector ordenado (Tiempo: {tiempo_ejecucion} segundos\")\n",
        "  print(f\"Vector {hilo}: {subvector}\")"
      ],
      "metadata": {
        "id": "4-mBdhkGlzc2"
      },
      "execution_count": 82,
      "outputs": []
    },
    {
      "cell_type": "code",
      "source": [
        "def dividir_vector(vector, num_hilos):\n",
        "  longitud_subvector = len(vector) // num_hilos\n",
        "  subvectores = [vector[i:i+longitud_subvector] for i in range(0, len(vector), longitud_subvector)]\n",
        "  return subvectores"
      ],
      "metadata": {
        "id": "IMWOUJ5rmzS6"
      },
      "execution_count": 35,
      "outputs": []
    },
    {
      "cell_type": "code",
      "source": [
        "def unir_vectores(subvectores):\n",
        "  vector_ordenado = [num for subvector in subvectores for num in subvector]\n",
        "  return vector_ordenado"
      ],
      "metadata": {
        "id": "zwPSViKInRZk"
      },
      "execution_count": 36,
      "outputs": []
    },
    {
      "cell_type": "code",
      "source": [
        "def ordenar_vector(vector, num_hilos):\n",
        "  subvectores = dividir_vector(vector, num_hilos)\n",
        "  threads = []\n",
        "\n",
        "  for i, subvector in enumerate(subvectores):\n",
        "    thread = threading.Thread(target = ordenar_subvector, args=(subvector, i))\n",
        "    thread.start()\n",
        "    threads.append(thread)\n",
        "  for thread in threads:\n",
        "    thread.join()\n",
        "  vector_ordenado = unir_vectores(subvectores)\n",
        "  vector_ordenado.sort()\n",
        "  print(f\"Vector ordenado final: {vector_ordenado}\")\n",
        "  print(f\"Tiempo final: {tiempo_total}\")"
      ],
      "metadata": {
        "id": "4HcZm1BqnkVy"
      },
      "execution_count": 84,
      "outputs": []
    },
    {
      "cell_type": "code",
      "source": [
        "vector_grande = [random.randint(1, 100) for _ in range(50)]"
      ],
      "metadata": {
        "id": "yF_6y9fBofJL"
      },
      "execution_count": 73,
      "outputs": []
    },
    {
      "cell_type": "code",
      "source": [
        "tiempo_total = 0\n",
        "\n",
        "num_hilos = int(input(\"Ingrese la cantidad de hilos: \"))\n",
        "\n",
        "ordenar_vector(vector = vector_grande, num_hilos = num_hilos)"
      ],
      "metadata": {
        "colab": {
          "base_uri": "https://localhost:8080/"
        },
        "id": "3AvmJifWosLB",
        "outputId": "af5e5bd4-13cd-4a75-b0c5-ae0f5894dd1f"
      },
      "execution_count": 85,
      "outputs": [
        {
          "output_type": "stream",
          "name": "stdout",
          "text": [
            "Ingrese la cantidad de hilos: 5\n",
            "Hilo 0: Subvector ordenado (Tiempo: 2.6226043701171875e-06 segundos\n",
            "Vector 0: [2, 4, 23, 23, 31, 69, 83, 84, 84, 93]\n",
            "Hilo 1: Subvector ordenado (Tiempo: 3.337860107421875e-06 segundos\n",
            "Vector 1: [13, 20, 44, 67, 79, 80, 84, 87, 93, 99]\n",
            "Hilo 2: Subvector ordenado (Tiempo: 2.6226043701171875e-06 segundosHilo 3: Subvector ordenado (Tiempo: 2.1457672119140625e-06 segundos\n",
            "Vector 3: [5, 8, 36, 41, 43, 51, 56, 77, 98, 99]\n",
            "Hilo 4: Subvector ordenado (Tiempo: 2.1457672119140625e-06 segundos\n",
            "Vector 2: [15, 15, 47, 48, 63, 77, 86, 89, 92, 94]\n",
            "\n",
            "Vector 4: [22, 30, 38, 41, 51, 52, 62, 67, 81, 98]\n",
            "Vector ordenado final: [2, 4, 23, 23, 31, 69, 83, 84, 84, 93, 13, 20, 44, 67, 79, 80, 84, 87, 93, 99, 15, 15, 47, 48, 63, 77, 86, 89, 92, 94, 5, 8, 36, 41, 43, 51, 56, 77, 98, 99, 22, 30, 38, 41, 51, 52, 62, 67, 81, 98]\n",
            "Tiempo final: 1.2874603271484375e-05\n"
          ]
        }
      ]
    },
    {
      "cell_type": "markdown",
      "source": [
        "Explicación salida resultante\n",
        "El código consiste en crear un vector aleatorio de x datos el cual es dividido en y cantidad de hilos para que cada hilo ejecute una función de ordenamiento, el resultado es la unión de esos hilos al hacer el sort.\n",
        "\n",
        "Vector ordenado o no?\n",
        "De primeras el vector no se muestra ordenado porque falta la función vector_ordenado.sort() después de unir los vectores. Al agregar esto el vector de muestra ordenado correctamente.\n",
        "\n",
        "¿Cual sería la cantidad optima?\n",
        "Con las caracteristicas y componentes de mi computadora se obtuvo que la cantidad optima es 8 o 6 para 1000 datos, o 7 o 9 para 100000 datos. Aunque pienso que es cuestión de suerte según el resultado que obtuve a la hora de hacer la prueba, puesto que al ejecutar varias veces una misma cantidad de hilos el resultado suele variar entre \"0,00013 - 0.00015\" o \"0.014\" - 0.018 para el otro caso\n",
        "\n",
        "Resultados con 1000 datos\n",
        "```\n",
        "Cantidad de Hilos,Tiempos\n",
        "8,\"0,0001366138458\"\n",
        "6,\"0,0001378059387\"\n",
        "10,\"0,0001406669617\"\n",
        "7,\"0,0001428127289\"\n",
        "9,\"0,0001428127289\"\n",
        "4,\"0,0001451969147\"\n",
        "5,\"0,0001468658447\"\n",
        "3,\"0,0001502037048\"\n",
        "1,\"0,0001533031464\"\n",
        "2,\"0,0001542568207\"\n",
        "```\n",
        "\n",
        "Resultados con 100000 datos\n",
        "```\n",
        "Cantidad de Hilos,Tiempos\n",
        "7,\"0,01432681084\"\n",
        "9,\"0,01437878609\"\n",
        "4,\"0,01457476616\"\n",
        "5,\"0,01462554932\"\n",
        "6,\"0,01464748383\"\n",
        "10,\"0,01475691795\"\n",
        "3,\"0,01513171196\"\n",
        "8,\"0,01551175117\"\n",
        "1,\"0,01597833633\"\n",
        "2,\"0,01821947098\"\n",
        "```\n"
      ],
      "metadata": {
        "id": "KgbLq6-23F6e"
      }
    }
  ]
}